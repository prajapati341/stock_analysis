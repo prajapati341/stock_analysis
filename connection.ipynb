{
 "cells": [
  {
   "cell_type": "code",
   "execution_count": 2,
   "metadata": {},
   "outputs": [
    {
     "name": "stdout",
     "output_type": "stream",
     "text": [
      "Collecting mysql-connector-python\n",
      "  Using cached mysql_connector_python-8.0.31-cp310-cp310-manylinux1_x86_64.whl (23.5 MB)\n",
      "Collecting protobuf<=3.20.1,>=3.11.0\n",
      "  Using cached protobuf-3.20.1-cp310-cp310-manylinux_2_12_x86_64.manylinux2010_x86_64.whl (1.1 MB)\n",
      "Installing collected packages: protobuf, mysql-connector-python\n",
      "Successfully installed mysql-connector-python-8.0.31 protobuf-3.20.1\n"
     ]
    }
   ],
   "source": [
    "!pip install mysql-connector-python"
   ]
  },
  {
   "cell_type": "code",
   "execution_count": 3,
   "metadata": {},
   "outputs": [
    {
     "name": "stdout",
     "output_type": "stream",
     "text": [
      "<mysql.connector.connection_cext.CMySQLConnection object at 0x7f7ed01979d0>\n",
      "connected\n",
      "now closed\n"
     ]
    }
   ],
   "source": [
    "import mysql.connector\n",
    "\n",
    "try:\n",
    "  mydb = mysql.connector.connect(\n",
    "    host=\"localhost\",\n",
    "    user=\"root\",\n",
    "    database=\"stock_store\",\n",
    "    password=\"1234\"\n",
    "  )\n",
    "\n",
    "  print(mydb)\n",
    "\n",
    "\n",
    "  if mydb.is_connected():\n",
    "    print('connected')\n",
    "  else:\n",
    "    print('not connected')  \n",
    "except Exception as e:\n",
    "  print('connection error : ',e)\n",
    "finally:\n",
    "  mydb.close()\n",
    "  print('now closed')"
   ]
  },
  {
   "cell_type": "code",
   "execution_count": null,
   "metadata": {},
   "outputs": [],
   "source": []
  }
 ],
 "metadata": {
  "kernelspec": {
   "display_name": "env",
   "language": "python",
   "name": "python3"
  },
  "language_info": {
   "codemirror_mode": {
    "name": "ipython",
    "version": 3
   },
   "file_extension": ".py",
   "mimetype": "text/x-python",
   "name": "python",
   "nbconvert_exporter": "python",
   "pygments_lexer": "ipython3",
   "version": "3.10.6"
  },
  "orig_nbformat": 4,
  "vscode": {
   "interpreter": {
    "hash": "55376fdd867f89331577637b670d519a6822eff53b45792e74b7f0cc6e71aa8a"
   }
  }
 },
 "nbformat": 4,
 "nbformat_minor": 2
}

{
 "cells": [
  {
   "cell_type": "code",
   "execution_count": null,
   "metadata": {},
   "outputs": [
    {
     "name": "stdout",
     "output_type": "stream",
     "text": [
      "Collecting yahoofinancials\n",
      "  Downloading yahoofinancials-1.6.tar.gz (27 kB)\n",
      "  Preparing metadata (setup.py): started\n",
      "  Preparing metadata (setup.py): finished with status 'done'\n",
      "Requirement already satisfied: beautifulsoup4 in c:\\users\\sanjay prajapati\\appdata\\local\\programs\\python\\python310\\lib\\site-packages (from yahoofinancials) (4.11.1)\n",
      "Requirement already satisfied: pytz in c:\\users\\sanjay prajapati\\appdata\\local\\programs\\python\\python310\\lib\\site-packages (from yahoofinancials) (2022.1)\n",
      "Requirement already satisfied: soupsieve>1.2 in c:\\users\\sanjay prajapati\\appdata\\local\\programs\\python\\python310\\lib\\site-packages (from beautifulsoup4->yahoofinancials) (2.3.2.post1)\n",
      "Installing collected packages: yahoofinancials\n",
      "  Running setup.py install for yahoofinancials: started\n",
      "  Running setup.py install for yahoofinancials: finished with status 'done'\n",
      "Successfully installed yahoofinancials-1.6\n"
     ]
    },
    {
     "name": "stderr",
     "output_type": "stream",
     "text": [
      "  DEPRECATION: yahoofinancials is being installed using the legacy 'setup.py install' method, because it does not have a 'pyproject.toml' and the 'wheel' package is not installed. pip 23.1 will enforce this behaviour change. A possible replacement is to enable the '--use-pep517' option. Discussion can be found at https://github.com/pypa/pip/issues/8559\n"
     ]
    }
   ],
   "source": [
    "!pip install yahoofinancials\n",
    "!pip install pandas\n",
    "!pip install yfinance\n",
    "!pip install matplotlib\n"
   ]
  },
  {
   "cell_type": "code",
   "execution_count": 1,
   "metadata": {},
   "outputs": [],
   "source": [
    "import pandas as pd\n",
    "import yfinance as yf\n",
    "from yahoofinancials import YahooFinancials"
   ]
  },
  {
   "cell_type": "code",
   "execution_count": null,
   "metadata": {},
   "outputs": [],
   "source": []
  },
  {
   "cell_type": "code",
   "execution_count": 6,
   "metadata": {},
   "outputs": [
    {
     "name": "stdout",
     "output_type": "stream",
     "text": [
      "[*********************100%***********************]  1 of 1 completed\n",
      "[*********************100%***********************]  1 of 1 completed\n",
      "[*********************100%***********************]  1 of 1 completed\n",
      "[*********************100%***********************]  1 of 1 completed\n",
      "[*********************100%***********************]  1 of 1 completed\n"
     ]
    }
   ],
   "source": [
    "import yfinance as yf\n",
    "import datetime as dt\n",
    "\n",
    "# Set the start and end date\n",
    "start_date = '2022-12-08'\n",
    "end_date = '2023-01-31'\n",
    "\n",
    "# Set the ticker\n",
    "ticker1 = 'YESBANK.NS'\n",
    "ticker2 = 'RBLBANK.NS'\n",
    "ticker3 = 'UPL.NS'\n",
    "ticker4 = 'IRFC.NS'\n",
    "ticker5 = 'WIPRO.NS'\n",
    "\n",
    "# Get the data\n",
    "yes_bank = yf.download(ticker1, start_date, end_date)\n",
    "rbl_bank = yf.download(ticker2, start_date, end_date)\n",
    "upl = yf.download(ticker3, start_date, end_date)\n",
    "irfc = yf.download(ticker4, start_date, end_date)\n",
    "wipro = yf.download(ticker5, start_date, end_date)\n",
    "\n",
    "\n",
    "\n",
    "yes_bank=yes_bank.reset_index()\n",
    "yes_bank['Day']=yes_bank['Date'].dt.day\n",
    "\n",
    "rbl_bank=rbl_bank.reset_index()\n",
    "rbl_bank['Day']=rbl_bank['Date'].dt.day\n",
    "\n",
    "upl=upl.reset_index()\n",
    "upl['Day']=upl['Date'].dt.day\n",
    "\n",
    "\n",
    "irfc=irfc.reset_index()\n",
    "irfc['Day']=irfc['Date'].dt.day\n",
    "\n",
    "\n",
    "wipro=wipro.reset_index()\n",
    "wipro['Day']=wipro['Date'].dt.day\n",
    "\n",
    "\n"
   ]
  },
  {
   "cell_type": "code",
   "execution_count": 17,
   "metadata": {},
   "outputs": [],
   "source": [
    "get='{} - {}'.format(yes_bank['Date'].dt.day,yes_bank['Date'].dt.month)\n",
    "#yes_bank['Day1']=yes_bank['Date'].dt.day\n",
    "#print(yes_bank['Date'].dt.month,'-',yes_bank['Date'].dt.month)"
   ]
  },
  {
   "cell_type": "code",
   "execution_count": 8,
   "metadata": {},
   "outputs": [
    {
     "data": {
      "image/png": "[encoded data removed]",
      "text/plain": [
       "<Figure size 432x288 with 4 Axes>"
      ]
     },
     "metadata": {
      "needs_background": "light"
     },
     "output_type": "display_data"
    },
    {
     "data": {
      "text/plain": [
       "<Figure size 1152x1152 with 0 Axes>"
      ]
     },
     "metadata": {},
     "output_type": "display_data"
    }
   ],
   "source": [
    "import matplotlib.pyplot as plt\n",
    "\n",
    "import numpy as np\n",
    "\n",
    "#Yes bank\n",
    "plt.title(\"Yes Bank\")\n",
    "\n",
    "xlabel=yes_bank['Day']\n",
    "ylabel=yes_bank['Close']\n",
    "\n",
    "plt.subplot(2, 2, 1)\n",
    "plt.plot(xlabel, ylabel)\n",
    "#---------------------------------\n",
    "\n",
    "\n",
    "#RBL Bank\n",
    "xlabel=rbl_bank['Day']\n",
    "ylabel=rbl_bank['Close']\n",
    "\n",
    "plt.subplot(2, 2, 2)\n",
    "plt.plot(xlabel, ylabel)\n",
    "#---------------------------------\n",
    "\n",
    "#UPL Bank\n",
    "xlabel=upl['Day']\n",
    "ylabel=upl['Close']\n",
    "\n",
    "plt.subplot(2, 2, 3)\n",
    "plt.plot(xlabel, ylabel)\n",
    "#---------------------------------\n",
    "\n",
    "\n",
    "\n",
    "#UPL Bank\n",
    "xlabel=irfc['Day']\n",
    "ylabel=irfc['Close']\n",
    "\n",
    "plt.subplot(2, 2, 4)\n",
    "plt.plot(xlabel, ylabel)\n",
    "#---------------------------------\n",
    "\n",
    "plt.figure(figsize=(16,16))\n",
    "plt.show()"
   ]
  },
  {
   "cell_type": "code",
   "execution_count": 9,
   "metadata": {},
   "outputs": [
    {
     "name": "stderr",
     "output_type": "stream",
     "text": [
      "No artists with labels found to put in legend.  Note that artists whose label start with an underscore are ignored when legend() is called with no argument.\n"
     ]
    },
    {
     "data": {
      "image/png": "[encoded data removed]",
      "text/plain": [
       "<Figure size 864x360 with 4 Axes>"
      ]
     },
     "metadata": {
      "needs_background": "light"
     },
     "output_type": "display_data"
    },
    {
     "data": {
      "text/plain": [
       "[<matplotlib.lines.Line2D at 0x1b7cab954e0>]"
      ]
     },
     "execution_count": 9,
     "metadata": {},
     "output_type": "execute_result"
    },
    {
     "data": {
      "image/png": "[encoded data removed]",
      "text/plain": [
       "<Figure size 432x288 with 1 Axes>"
      ]
     },
     "metadata": {
      "needs_background": "light"
     },
     "output_type": "display_data"
    }
   ],
   "source": [
    "import matplotlib.pyplot as plt\n",
    "\n",
    "#define subplots\n",
    "fig, ax = plt.subplots(2, 2, figsize=(12,5))\n",
    "fig.tight_layout()\n",
    "\n",
    "#define data\n",
    "\n",
    "x_yes=yes_bank['Day']\n",
    "y_yes=yes_bank['Close']\n",
    "\n",
    "\n",
    "x_rbl=rbl_bank['Day']\n",
    "y_rbl=rbl_bank['Close']\n",
    "\n",
    "\n",
    "x_upl=upl['Day']\n",
    "y_upl=upl['Close']\n",
    "\n",
    "\n",
    "x_irfc=irfc['Day']\n",
    "y_irfc=irfc['Close']\n",
    "\n",
    "x_wipro=wipro['Day']\n",
    "y_wipro=wipro['Close']\n",
    "\n",
    "#create subplots\n",
    "ax[0, 0].plot(x_yes, y_yes, color='red')\n",
    "ax[0, 0].set_title('Yes Bank')\n",
    "ax[0, 0].set_xticks(x_yes)\n",
    "ax[0,0].axvline(x=22,color='black')\n",
    "\n",
    "\n",
    "\n",
    "ax[0, 1].plot(x_rbl, y_rbl, color='blue')\n",
    "ax[0, 1].set_title('RBL Bank')\n",
    "ax[0, 1].set_xticks(x_rbl)\n",
    "ax[0,1].axvline(x=22,color='black')\n",
    "\n",
    "\n",
    "ax[1, 0].plot(x_upl, y_upl, color='green',label='UPL')\n",
    "ax[1, 0].set_title('UPL Bank')\n",
    "ax[1, 0].set_xticks(x_upl)\n",
    "ax[1,0].axvline(x=22,color='black')\n",
    "\n",
    "ax[1, 1].plot(x_irfc, y_irfc, color='purple')\n",
    "ax[1, 1].set_title('IRFC Bank')\n",
    "ax[1, 1].set_xticks(x_irfc)\n",
    "ax[1,1].axvline(x=22,color='black')\n",
    "ax[1,1].axhline(y=30,color='orange')\n",
    "\n",
    "\n",
    "\n",
    "\n",
    "plt.legend()\n",
    "plt.show()\n",
    "\n",
    "plt.plot(x_wipro,y_wipro)"
   ]
  },
  {
   "cell_type": "code",
   "execution_count": 10,
   "metadata": {},
   "outputs": [
    {
     "data": {
      "image/png": "[encoded data removed]",
      "text/plain": [
       "<Figure size 432x288 with 1 Axes>"
      ]
     },
     "metadata": {
      "needs_background": "light"
     },
     "output_type": "display_data"
    }
   ],
   "source": [
    "\n",
    "\n",
    "xpoints = np.array([0, 6])\n",
    "ypoints = np.array([0, 250])\n",
    "\n",
    "plt.plot(xpoints, ypoints)\n",
    "plt.show()"
   ]
  },
  {
   "cell_type": "code",
   "execution_count": 1,
   "metadata": {},
   "outputs": [],
   "source": [
    "import pandas as pd\n",
    "df=pd.read_excel('I:/My Drive/Investment Related/Market_Crash.xlsx')"
   ]
  },
  {
   "cell_type": "code",
   "execution_count": 2,
   "metadata": {},
   "outputs": [
    {
     "data": {
      "text/html": [
       "<div>\n",
       "<style scoped>\n",
       "    .dataframe tbody tr th:only-of-type {\n",
       "        vertical-align: middle;\n",
       "    }\n",
       "\n",
       "    .dataframe tbody tr th {\n",
       "        vertical-align: top;\n",
       "    }\n",
       "\n",
       "    .dataframe thead th {\n",
       "        text-align: right;\n",
       "    }\n",
       "</style>\n",
       "<table border=\"1\" class=\"dataframe\">\n",
       "  <thead>\n",
       "    <tr style=\"text-align: right;\">\n",
       "      <th></th>\n",
       "      <th>Crash Date</th>\n",
       "      <th>Event</th>\n",
       "      <th>Points Lost</th>\n",
       "      <th>% Lost</th>\n",
       "    </tr>\n",
       "  </thead>\n",
       "  <tbody>\n",
       "    <tr>\n",
       "      <th>0</th>\n",
       "      <td>2020-03-23</td>\n",
       "      <td>Covid-19</td>\n",
       "      <td>3943.72</td>\n",
       "      <td>0.1315</td>\n",
       "    </tr>\n",
       "    <tr>\n",
       "      <th>1</th>\n",
       "      <td>1992-04-28</td>\n",
       "      <td>Harshad Mehta Scam</td>\n",
       "      <td>570.00</td>\n",
       "      <td>0.1277</td>\n",
       "    </tr>\n",
       "    <tr>\n",
       "      <th>2</th>\n",
       "      <td>2008-10-24</td>\n",
       "      <td>US Financial Crisis</td>\n",
       "      <td>1070.00</td>\n",
       "      <td>0.1095</td>\n",
       "    </tr>\n",
       "    <tr>\n",
       "      <th>3</th>\n",
       "      <td>2020-03-12</td>\n",
       "      <td>Covid-19</td>\n",
       "      <td>2919.26</td>\n",
       "      <td>0.0818</td>\n",
       "    </tr>\n",
       "    <tr>\n",
       "      <th>4</th>\n",
       "      <td>2020-03-16</td>\n",
       "      <td>Covid-19</td>\n",
       "      <td>2713.41</td>\n",
       "      <td>0.0796</td>\n",
       "    </tr>\n",
       "    <tr>\n",
       "      <th>5</th>\n",
       "      <td>2008-01-21</td>\n",
       "      <td>US Financial Crisis</td>\n",
       "      <td>1408.00</td>\n",
       "      <td>0.0740</td>\n",
       "    </tr>\n",
       "    <tr>\n",
       "      <th>6</th>\n",
       "      <td>2006-05-18</td>\n",
       "      <td>Unknown</td>\n",
       "      <td>826.00</td>\n",
       "      <td>0.0676</td>\n",
       "    </tr>\n",
       "    <tr>\n",
       "      <th>7</th>\n",
       "      <td>2008-03-17</td>\n",
       "      <td>US Financial Crisis</td>\n",
       "      <td>951.00</td>\n",
       "      <td>0.0603</td>\n",
       "    </tr>\n",
       "    <tr>\n",
       "      <th>8</th>\n",
       "      <td>2015-08-24</td>\n",
       "      <td>Unknown</td>\n",
       "      <td>1624.00</td>\n",
       "      <td>0.0593</td>\n",
       "    </tr>\n",
       "    <tr>\n",
       "      <th>9</th>\n",
       "      <td>2016-09-11</td>\n",
       "      <td>Demonetisation</td>\n",
       "      <td>1689.00</td>\n",
       "      <td>0.0590</td>\n",
       "    </tr>\n",
       "    <tr>\n",
       "      <th>10</th>\n",
       "      <td>2022-02-24</td>\n",
       "      <td>NaN</td>\n",
       "      <td>2702.15</td>\n",
       "      <td>NaN</td>\n",
       "    </tr>\n",
       "    <tr>\n",
       "      <th>11</th>\n",
       "      <td>2022-02-14</td>\n",
       "      <td>NaN</td>\n",
       "      <td>1747.08</td>\n",
       "      <td>NaN</td>\n",
       "    </tr>\n",
       "    <tr>\n",
       "      <th>12</th>\n",
       "      <td>2022-01-24</td>\n",
       "      <td>NaN</td>\n",
       "      <td>1545.67</td>\n",
       "      <td>NaN</td>\n",
       "    </tr>\n",
       "    <tr>\n",
       "      <th>13</th>\n",
       "      <td>2022-03-07</td>\n",
       "      <td>NaN</td>\n",
       "      <td>1491.06</td>\n",
       "      <td>NaN</td>\n",
       "    </tr>\n",
       "    <tr>\n",
       "      <th>14</th>\n",
       "      <td>2022-06-13</td>\n",
       "      <td>NaN</td>\n",
       "      <td>1456.74</td>\n",
       "      <td>NaN</td>\n",
       "    </tr>\n",
       "    <tr>\n",
       "      <th>15</th>\n",
       "      <td>2022-05-19</td>\n",
       "      <td>NaN</td>\n",
       "      <td>1416.30</td>\n",
       "      <td>NaN</td>\n",
       "    </tr>\n",
       "    <tr>\n",
       "      <th>16</th>\n",
       "      <td>2022-05-04</td>\n",
       "      <td>NaN</td>\n",
       "      <td>1306.96</td>\n",
       "      <td>NaN</td>\n",
       "    </tr>\n",
       "    <tr>\n",
       "      <th>17</th>\n",
       "      <td>2022-04-18</td>\n",
       "      <td>NaN</td>\n",
       "      <td>1172.19</td>\n",
       "      <td>NaN</td>\n",
       "    </tr>\n",
       "    <tr>\n",
       "      <th>18</th>\n",
       "      <td>2022-05-12</td>\n",
       "      <td>NaN</td>\n",
       "      <td>1158.08</td>\n",
       "      <td>NaN</td>\n",
       "    </tr>\n",
       "    <tr>\n",
       "      <th>19</th>\n",
       "      <td>2022-09-16</td>\n",
       "      <td>NaN</td>\n",
       "      <td>1093.22</td>\n",
       "      <td>NaN</td>\n",
       "    </tr>\n",
       "  </tbody>\n",
       "</table>\n",
       "</div>"
      ],
      "text/plain": [
       "   Crash Date                Event  Points Lost  % Lost\n",
       "0  2020-03-23             Covid-19      3943.72  0.1315\n",
       "1  1992-04-28   Harshad Mehta Scam       570.00  0.1277\n",
       "2  2008-10-24  US Financial Crisis      1070.00  0.1095\n",
       "3  2020-03-12             Covid-19      2919.26  0.0818\n",
       "4  2020-03-16             Covid-19      2713.41  0.0796\n",
       "5  2008-01-21  US Financial Crisis      1408.00  0.0740\n",
       "6  2006-05-18              Unknown       826.00  0.0676\n",
       "7  2008-03-17  US Financial Crisis       951.00  0.0603\n",
       "8  2015-08-24              Unknown      1624.00  0.0593\n",
       "9  2016-09-11       Demonetisation      1689.00  0.0590\n",
       "10 2022-02-24                  NaN      2702.15     NaN\n",
       "11 2022-02-14                  NaN      1747.08     NaN\n",
       "12 2022-01-24                  NaN      1545.67     NaN\n",
       "13 2022-03-07                  NaN      1491.06     NaN\n",
       "14 2022-06-13                  NaN      1456.74     NaN\n",
       "15 2022-05-19                  NaN      1416.30     NaN\n",
       "16 2022-05-04                  NaN      1306.96     NaN\n",
       "17 2022-04-18                  NaN      1172.19     NaN\n",
       "18 2022-05-12                  NaN      1158.08     NaN\n",
       "19 2022-09-16                  NaN      1093.22     NaN"
      ]
     },
     "execution_count": 2,
     "metadata": {},
     "output_type": "execute_result"
    }
   ],
   "source": [
    "df"
   ]
  },
  {
   "cell_type": "code",
   "execution_count": null,
   "metadata": {},
   "outputs": [],
   "source": []
  },
  {
   "cell_type": "code",
   "execution_count": 69,
   "metadata": {},
   "outputs": [
    {
     "name": "stdout",
     "output_type": "stream",
     "text": [
      "[*********************100%***********************]  1 of 1 completed\n"
     ]
    },
    {
     "data": {
      "image/png": "[encoded data removed]",
      "text/plain": [
       "<Figure size 432x288 with 1 Axes>"
      ]
     },
     "metadata": {
      "needs_background": "light"
     },
     "output_type": "display_data"
    },
    {
     "data": {
      "text/plain": [
       "<Figure size 7200x288 with 0 Axes>"
      ]
     },
     "metadata": {},
     "output_type": "display_data"
    },
    {
     "data": {
      "text/plain": [
       "<Figure size 432x7200 with 0 Axes>"
      ]
     },
     "metadata": {},
     "output_type": "display_data"
    }
   ],
   "source": [
    "import yfinance as yf\n",
    "\n",
    "data = yf.download(\"UPL.NS\", start=\"2022-12-31\", end=\"2023-01-05\",  interval = \"1m\")\n",
    "data=data.reset_index()\n",
    "\n",
    "xpoints = data['Datetime']\n",
    "ypoints = data['High']\n",
    "\n",
    "plt.plot(xpoints, ypoints)\n",
    "plt.figure().set_figwidth(100)\n",
    "plt.figure().set_figheight(100)\n",
    "plt.show()"
   ]
  },
  {
   "cell_type": "code",
   "execution_count": 51,
   "metadata": {},
   "outputs": [],
   "source": [
    "\n"
   ]
  },
  {
   "cell_type": "code",
   "execution_count": 52,
   "metadata": {},
   "outputs": [
    {
     "data": {
      "text/html": [
       "<div>\n",
       "<style scoped>\n",
       "    .dataframe tbody tr th:only-of-type {\n",
       "        vertical-align: middle;\n",
       "    }\n",
       "\n",
       "    .dataframe tbody tr th {\n",
       "        vertical-align: top;\n",
       "    }\n",
       "\n",
       "    .dataframe thead th {\n",
       "        text-align: right;\n",
       "    }\n",
       "</style>\n",
       "<table border=\"1\" class=\"dataframe\">\n",
       "  <thead>\n",
       "    <tr style=\"text-align: right;\">\n",
       "      <th></th>\n",
       "      <th>Datetime</th>\n",
       "      <th>Open</th>\n",
       "      <th>High</th>\n",
       "      <th>Low</th>\n",
       "      <th>Close</th>\n",
       "      <th>Adj Close</th>\n",
       "      <th>Volume</th>\n",
       "    </tr>\n",
       "  </thead>\n",
       "  <tbody>\n",
       "    <tr>\n",
       "      <th>0</th>\n",
       "      <td>2023-01-02 09:15:00+05:30</td>\n",
       "      <td>20.799999</td>\n",
       "      <td>21.049999</td>\n",
       "      <td>20.799999</td>\n",
       "      <td>20.950001</td>\n",
       "      <td>20.950001</td>\n",
       "      <td>0</td>\n",
       "    </tr>\n",
       "    <tr>\n",
       "      <th>1</th>\n",
       "      <td>2023-01-02 09:16:00+05:30</td>\n",
       "      <td>20.950001</td>\n",
       "      <td>21.100000</td>\n",
       "      <td>20.900000</td>\n",
       "      <td>20.950001</td>\n",
       "      <td>20.950001</td>\n",
       "      <td>10042158</td>\n",
       "    </tr>\n",
       "    <tr>\n",
       "      <th>2</th>\n",
       "      <td>2023-01-02 09:17:00+05:30</td>\n",
       "      <td>20.900000</td>\n",
       "      <td>20.950001</td>\n",
       "      <td>20.850000</td>\n",
       "      <td>20.900000</td>\n",
       "      <td>20.900000</td>\n",
       "      <td>3716077</td>\n",
       "    </tr>\n",
       "    <tr>\n",
       "      <th>3</th>\n",
       "      <td>2023-01-02 09:18:00+05:30</td>\n",
       "      <td>20.950001</td>\n",
       "      <td>20.950001</td>\n",
       "      <td>20.850000</td>\n",
       "      <td>20.900000</td>\n",
       "      <td>20.900000</td>\n",
       "      <td>1799862</td>\n",
       "    </tr>\n",
       "    <tr>\n",
       "      <th>4</th>\n",
       "      <td>2023-01-02 09:19:00+05:30</td>\n",
       "      <td>20.950001</td>\n",
       "      <td>20.950001</td>\n",
       "      <td>20.850000</td>\n",
       "      <td>20.900000</td>\n",
       "      <td>20.900000</td>\n",
       "      <td>2332480</td>\n",
       "    </tr>\n",
       "    <tr>\n",
       "      <th>...</th>\n",
       "      <td>...</td>\n",
       "      <td>...</td>\n",
       "      <td>...</td>\n",
       "      <td>...</td>\n",
       "      <td>...</td>\n",
       "      <td>...</td>\n",
       "      <td>...</td>\n",
       "    </tr>\n",
       "    <tr>\n",
       "      <th>1120</th>\n",
       "      <td>2023-01-04 15:26:00+05:30</td>\n",
       "      <td>21.350000</td>\n",
       "      <td>21.350000</td>\n",
       "      <td>21.299999</td>\n",
       "      <td>21.299999</td>\n",
       "      <td>21.299999</td>\n",
       "      <td>2799712</td>\n",
       "    </tr>\n",
       "    <tr>\n",
       "      <th>1121</th>\n",
       "      <td>2023-01-04 15:27:00+05:30</td>\n",
       "      <td>21.299999</td>\n",
       "      <td>21.299999</td>\n",
       "      <td>21.250000</td>\n",
       "      <td>21.299999</td>\n",
       "      <td>21.299999</td>\n",
       "      <td>1263315</td>\n",
       "    </tr>\n",
       "    <tr>\n",
       "      <th>1122</th>\n",
       "      <td>2023-01-04 15:28:00+05:30</td>\n",
       "      <td>21.250000</td>\n",
       "      <td>21.299999</td>\n",
       "      <td>21.250000</td>\n",
       "      <td>21.299999</td>\n",
       "      <td>21.299999</td>\n",
       "      <td>1045849</td>\n",
       "    </tr>\n",
       "    <tr>\n",
       "      <th>1123</th>\n",
       "      <td>2023-01-04 15:29:00+05:30</td>\n",
       "      <td>21.250000</td>\n",
       "      <td>21.299999</td>\n",
       "      <td>21.250000</td>\n",
       "      <td>21.299999</td>\n",
       "      <td>21.299999</td>\n",
       "      <td>1742937</td>\n",
       "    </tr>\n",
       "    <tr>\n",
       "      <th>1124</th>\n",
       "      <td>2023-01-06 15:30:00+05:30</td>\n",
       "      <td>21.100000</td>\n",
       "      <td>21.100000</td>\n",
       "      <td>21.100000</td>\n",
       "      <td>21.100000</td>\n",
       "      <td>21.100000</td>\n",
       "      <td>0</td>\n",
       "    </tr>\n",
       "  </tbody>\n",
       "</table>\n",
       "<p>1125 rows × 7 columns</p>\n",
       "</div>"
      ],
      "text/plain": [
       "                      Datetime       Open       High        Low      Close  \\\n",
       "0    2023-01-02 09:15:00+05:30  20.799999  21.049999  20.799999  20.950001   \n",
       "1    2023-01-02 09:16:00+05:30  20.950001  21.100000  20.900000  20.950001   \n",
       "2    2023-01-02 09:17:00+05:30  20.900000  20.950001  20.850000  20.900000   \n",
       "3    2023-01-02 09:18:00+05:30  20.950001  20.950001  20.850000  20.900000   \n",
       "4    2023-01-02 09:19:00+05:30  20.950001  20.950001  20.850000  20.900000   \n",
       "...                        ...        ...        ...        ...        ...   \n",
       "1120 2023-01-04 15:26:00+05:30  21.350000  21.350000  21.299999  21.299999   \n",
       "1121 2023-01-04 15:27:00+05:30  21.299999  21.299999  21.250000  21.299999   \n",
       "1122 2023-01-04 15:28:00+05:30  21.250000  21.299999  21.250000  21.299999   \n",
       "1123 2023-01-04 15:29:00+05:30  21.250000  21.299999  21.250000  21.299999   \n",
       "1124 2023-01-06 15:30:00+05:30  21.100000  21.100000  21.100000  21.100000   \n",
       "\n",
       "      Adj Close    Volume  \n",
       "0     20.950001         0  \n",
       "1     20.950001  10042158  \n",
       "2     20.900000   3716077  \n",
       "3     20.900000   1799862  \n",
       "4     20.900000   2332480  \n",
       "...         ...       ...  \n",
       "1120  21.299999   2799712  \n",
       "1121  21.299999   1263315  \n",
       "1122  21.299999   1045849  \n",
       "1123  21.299999   1742937  \n",
       "1124  21.100000         0  \n",
       "\n",
       "[1125 rows x 7 columns]"
      ]
     },
     "execution_count": 52,
     "metadata": {},
     "output_type": "execute_result"
    }
   ],
   "source": [
    "data"
   ]
  },
  {
   "cell_type": "code",
   "execution_count": null,
   "metadata": {},
   "outputs": [],
   "source": []
  }
 ],
 "metadata": {
  "kernelspec": {
   "display_name": "env",
   "language": "python",
   "name": "python3"
  },
  "language_info": {
   "codemirror_mode": {
    "name": "ipython",
    "version": 3
   },
   "file_extension": ".py",
   "mimetype": "text/x-python",
   "name": "python",
   "nbconvert_exporter": "python",
   "pygments_lexer": "ipython3",
   "version": "3.10.6"
  },
  "orig_nbformat": 4,
  "vscode": {
   "interpreter": {
    "hash": "55376fdd867f89331577637b670d519a6822eff53b45792e74b7f0cc6e71aa8a"
   }
  }
 },
 "nbformat": 4,
 "nbformat_minor": 2
}
